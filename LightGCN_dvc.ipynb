{
  "nbformat": 4,
  "nbformat_minor": 0,
  "metadata": {
    "colab": {
      "provenance": [],
      "gpuType": "T4"
    },
    "kernelspec": {
      "name": "python3",
      "display_name": "Python 3"
    },
    "language_info": {
      "name": "python"
    },
    "accelerator": "GPU"
  },
  "cells": [
    {
      "cell_type": "code",
      "execution_count": null,
      "metadata": {
        "colab": {
          "base_uri": "https://localhost:8080/"
        },
        "id": "Hqau9zObObQ3",
        "outputId": "54c5849a-d359-44bb-cef4-272a6b373772"
      },
      "outputs": [
        {
          "output_type": "stream",
          "name": "stdout",
          "text": [
            "/content/drive/MyDrive/DeepLearning/recommenders-main\n",
            "Collecting retrying\n",
            "  Downloading retrying-1.3.4-py3-none-any.whl.metadata (6.9 kB)\n",
            "Requirement already satisfied: six>=1.7.0 in /usr/local/lib/python3.10/dist-packages (from retrying) (1.17.0)\n",
            "Downloading retrying-1.3.4-py3-none-any.whl (11 kB)\n",
            "Installing collected packages: retrying\n",
            "Successfully installed retrying-1.3.4\n",
            "Collecting pandera\n",
            "  Downloading pandera-0.22.1-py3-none-any.whl.metadata (15 kB)\n",
            "Requirement already satisfied: numpy>=1.19.0 in /usr/local/lib/python3.10/dist-packages (from pandera) (1.26.4)\n",
            "Requirement already satisfied: packaging>=20.0 in /usr/local/lib/python3.10/dist-packages (from pandera) (24.2)\n",
            "Requirement already satisfied: pandas>=1.2.0 in /usr/local/lib/python3.10/dist-packages (from pandera) (2.2.2)\n",
            "Requirement already satisfied: pydantic in /usr/local/lib/python3.10/dist-packages (from pandera) (2.10.3)\n",
            "Requirement already satisfied: typeguard in /usr/local/lib/python3.10/dist-packages (from pandera) (4.4.1)\n",
            "Collecting typing_inspect>=0.6.0 (from pandera)\n",
            "  Downloading typing_inspect-0.9.0-py3-none-any.whl.metadata (1.5 kB)\n",
            "Requirement already satisfied: python-dateutil>=2.8.2 in /usr/local/lib/python3.10/dist-packages (from pandas>=1.2.0->pandera) (2.8.2)\n",
            "Requirement already satisfied: pytz>=2020.1 in /usr/local/lib/python3.10/dist-packages (from pandas>=1.2.0->pandera) (2024.2)\n",
            "Requirement already satisfied: tzdata>=2022.7 in /usr/local/lib/python3.10/dist-packages (from pandas>=1.2.0->pandera) (2024.2)\n",
            "Collecting mypy-extensions>=0.3.0 (from typing_inspect>=0.6.0->pandera)\n",
            "  Downloading mypy_extensions-1.0.0-py3-none-any.whl.metadata (1.1 kB)\n",
            "Requirement already satisfied: typing-extensions>=3.7.4 in /usr/local/lib/python3.10/dist-packages (from typing_inspect>=0.6.0->pandera) (4.12.2)\n",
            "Requirement already satisfied: annotated-types>=0.6.0 in /usr/local/lib/python3.10/dist-packages (from pydantic->pandera) (0.7.0)\n",
            "Requirement already satisfied: pydantic-core==2.27.1 in /usr/local/lib/python3.10/dist-packages (from pydantic->pandera) (2.27.1)\n",
            "Requirement already satisfied: six>=1.5 in /usr/local/lib/python3.10/dist-packages (from python-dateutil>=2.8.2->pandas>=1.2.0->pandera) (1.17.0)\n",
            "Downloading pandera-0.22.1-py3-none-any.whl (261 kB)\n",
            "\u001b[2K   \u001b[90m━━━━━━━━━━━━━━━━━━━━━━━━━━━━━━━━━━━━━━━━\u001b[0m \u001b[32m261.4/261.4 kB\u001b[0m \u001b[31m9.9 MB/s\u001b[0m eta \u001b[36m0:00:00\u001b[0m\n",
            "\u001b[?25hDownloading typing_inspect-0.9.0-py3-none-any.whl (8.8 kB)\n",
            "Downloading mypy_extensions-1.0.0-py3-none-any.whl (4.7 kB)\n",
            "Installing collected packages: mypy-extensions, typing_inspect, pandera\n",
            "Successfully installed mypy-extensions-1.0.0 pandera-0.22.1 typing_inspect-0.9.0\n"
          ]
        }
      ],
      "source": [
        "%cd /content/drive/MyDrive/DeepLearning/recommenders-main\n",
        "!pip install retrying\n",
        "!pip install pandera"
      ]
    },
    {
      "cell_type": "code",
      "source": [
        "import sys\n",
        "import os\n",
        "import pandas as pd\n",
        "import numpy as np\n",
        "import tensorflow as tf\n",
        "tf.get_logger().setLevel('ERROR') # only show error messages\n",
        "\n",
        "from recommenders.utils.timer import Timer\n",
        "from recommenders.models.deeprec.models.graphrec.lightgcn import LightGCN\n",
        "from recommenders.models.deeprec.DataModel.ImplicitCF import ImplicitCF\n",
        "from recommenders.datasets.python_splitters import python_stratified_split\n",
        "from recommenders.evaluation.python_evaluation import map, ndcg_at_k, precision_at_k, recall_at_k\n",
        "from recommenders.utils.constants import SEED as DEFAULT_SEED\n",
        "from recommenders.models.deeprec.deeprec_utils import prepare_hparams\n",
        "from recommenders.utils.notebook_utils import store_metadata\n",
        "\n",
        "print(f\"System version: {sys.version}\")\n",
        "print(f\"Pandas version: {pd.__version__}\")\n",
        "print(f\"Tensorflow version: {tf.__version__}\")"
      ],
      "metadata": {
        "colab": {
          "base_uri": "https://localhost:8080/"
        },
        "id": "WslU3vMyOuED",
        "outputId": "e1242804-a8c8-4417-f516-bbb54a6844a3"
      },
      "execution_count": null,
      "outputs": [
        {
          "output_type": "stream",
          "name": "stdout",
          "text": [
            "System version: 3.10.12 (main, Nov  6 2024, 20:22:13) [GCC 11.4.0]\n",
            "Pandas version: 2.2.2\n",
            "Tensorflow version: 2.17.1\n"
          ]
        }
      ]
    },
    {
      "cell_type": "code",
      "source": [
        "# top k items to recommend\n",
        "TOP_K = 3\n",
        "\n",
        "# Model parameters\n",
        "EPOCHS = 50\n",
        "BATCH_SIZE = 1024\n",
        "\n",
        "SEED = DEFAULT_SEED  # Set None for non-deterministic results\n",
        "\n",
        "yaml_file = \"./recommenders/models/deeprec/config/lightgcn.yaml\"\n",
        "user_file = \"./tests/resources/deeprec/lightgcn/user_embeddings.csv\"\n",
        "item_file = \"./tests/resources/deeprec/lightgcn/item_embeddings.csv\""
      ],
      "metadata": {
        "id": "jg4xPfXGPWay"
      },
      "execution_count": null,
      "outputs": []
    },
    {
      "cell_type": "code",
      "source": [
        "# Đường dẫn đến file ratings.dat\n",
        "interact_file_path = \"./ml-1m/synthetic_dataset.csv\"\n",
        "\n",
        "df = pd.read_csv(interact_file_path)\n",
        "print(df)\n"
      ],
      "metadata": {
        "colab": {
          "base_uri": "https://localhost:8080/"
        },
        "id": "JrsbKnWGywnL",
        "outputId": "3262d7c1-a41d-40f4-b37d-1c57ac30cae6"
      },
      "execution_count": null,
      "outputs": [
        {
          "output_type": "stream",
          "name": "stdout",
          "text": [
            "        userID  itemID   timestamp  rating\n",
            "0        36975    3794  1672930839       1\n",
            "1        48204     882  1723374997       1\n",
            "2        44109    3514  1724953765       1\n",
            "3        46603    2889  1724804439       1\n",
            "4        32666     541  1727377434       1\n",
            "...        ...     ...         ...     ...\n",
            "999995   10358     252  1710911627       1\n",
            "999996   15208    1733  1686878135       1\n",
            "999997    6735    1115  1718954908       1\n",
            "999998    5109    4322  1692039494       1\n",
            "999999    1640    3376  1694969435       1\n",
            "\n",
            "[1000000 rows x 4 columns]\n"
          ]
        }
      ]
    },
    {
      "cell_type": "code",
      "source": [
        "train, test = python_stratified_split(df, ratio=0.75)\n",
        "data = ImplicitCF(train=train, test=test, seed=SEED)"
      ],
      "metadata": {
        "id": "DOuOaBkRPm9q"
      },
      "execution_count": null,
      "outputs": []
    },
    {
      "cell_type": "code",
      "source": [
        "hparams = prepare_hparams(yaml_file,\n",
        "                          n_layers=3,\n",
        "                          batch_size=BATCH_SIZE,\n",
        "                          epochs=EPOCHS,\n",
        "                          learning_rate=0.005,\n",
        "                          eval_epoch=5,\n",
        "                          top_k=TOP_K,\n",
        "                         )\n",
        "model = LightGCN(hparams, data, seed=SEED)\n",
        "\n",
        "with Timer() as train_time:\n",
        "    model.fit()\n",
        "\n",
        "print(\"Took {} seconds for training.\".format(train_time.interval))"
      ],
      "metadata": {
        "id": "1Thrj6rgP3Lx",
        "colab": {
          "base_uri": "https://localhost:8080/"
        },
        "outputId": "a060d93e-6bde-49c0-849e-58b4b22f7e8b"
      },
      "execution_count": null,
      "outputs": [
        {
          "output_type": "stream",
          "name": "stdout",
          "text": [
            "Already create adjacency matrix.\n",
            "Already normalize adjacency matrix.\n",
            "Using xavier initialization.\n",
            "Epoch 1 (train)21.2s: train loss = 0.28552 = (mf)0.28400 + (embed)0.00152\n",
            "Epoch 2 (train)19.0s: train loss = 0.16238 = (mf)0.15872 + (embed)0.00366\n",
            "Epoch 3 (train)19.0s: train loss = 0.12480 = (mf)0.11962 + (embed)0.00518\n",
            "Epoch 4 (train)18.7s: train loss = 0.10563 = (mf)0.09932 + (embed)0.00631\n",
            "Epoch 5 (train)19.2s + (eval)7.7s: train loss = 0.09317 = (mf)0.08600 + (embed)0.00717, recall = 0.23142, ndcg = 0.39224, precision = 0.37508, map = 0.34984\n",
            "Epoch 6 (train)19.1s: train loss = 0.08423 = (mf)0.07637 + (embed)0.00786\n",
            "Epoch 7 (train)18.7s: train loss = 0.07812 = (mf)0.06971 + (embed)0.00842\n",
            "Epoch 8 (train)18.8s: train loss = 0.07185 = (mf)0.06297 + (embed)0.00889\n",
            "Epoch 9 (train)18.8s: train loss = 0.06820 = (mf)0.05890 + (embed)0.00929\n",
            "Epoch 10 (train)18.6s + (eval)7.3s: train loss = 0.06432 = (mf)0.05469 + (embed)0.00963, recall = 0.23474, ndcg = 0.39740, precision = 0.37991, map = 0.35356\n",
            "Epoch 11 (train)18.7s: train loss = 0.06134 = (mf)0.05140 + (embed)0.00994\n",
            "Epoch 12 (train)19.1s: train loss = 0.05881 = (mf)0.04860 + (embed)0.01021\n",
            "Epoch 13 (train)18.6s: train loss = 0.05610 = (mf)0.04567 + (embed)0.01043\n",
            "Epoch 14 (train)18.6s: train loss = 0.05455 = (mf)0.04391 + (embed)0.01064\n",
            "Epoch 15 (train)19.0s + (eval)6.9s: train loss = 0.05274 = (mf)0.04195 + (embed)0.01080, recall = 0.23749, ndcg = 0.40205, precision = 0.38319, map = 0.35687\n",
            "Epoch 16 (train)19.1s: train loss = 0.05050 = (mf)0.03957 + (embed)0.01093\n",
            "Epoch 17 (train)18.7s: train loss = 0.04914 = (mf)0.03809 + (embed)0.01106\n",
            "Epoch 18 (train)18.9s: train loss = 0.04766 = (mf)0.03649 + (embed)0.01118\n",
            "Epoch 19 (train)18.5s: train loss = 0.04660 = (mf)0.03533 + (embed)0.01127\n",
            "Epoch 20 (train)18.5s + (eval)7.1s: train loss = 0.04517 = (mf)0.03383 + (embed)0.01134, recall = 0.23726, ndcg = 0.40093, precision = 0.38245, map = 0.35518\n",
            "Epoch 21 (train)18.7s: train loss = 0.04370 = (mf)0.03228 + (embed)0.01142\n",
            "Epoch 22 (train)19.2s: train loss = 0.04280 = (mf)0.03133 + (embed)0.01147\n",
            "Epoch 23 (train)18.8s: train loss = 0.04199 = (mf)0.03048 + (embed)0.01151\n",
            "Epoch 24 (train)19.0s: train loss = 0.04143 = (mf)0.02988 + (embed)0.01156\n",
            "Epoch 25 (train)18.9s + (eval)7.4s: train loss = 0.04100 = (mf)0.02943 + (embed)0.01157, recall = 0.23664, ndcg = 0.39910, precision = 0.38067, map = 0.35261\n",
            "Epoch 26 (train)19.1s: train loss = 0.03937 = (mf)0.02778 + (embed)0.01159\n",
            "Epoch 27 (train)18.7s: train loss = 0.03845 = (mf)0.02685 + (embed)0.01159\n",
            "Epoch 28 (train)19.1s: train loss = 0.03827 = (mf)0.02667 + (embed)0.01160\n",
            "Epoch 29 (train)18.6s: train loss = 0.03726 = (mf)0.02567 + (embed)0.01160\n",
            "Epoch 30 (train)18.8s + (eval)6.9s: train loss = 0.03679 = (mf)0.02520 + (embed)0.01159, recall = 0.23610, ndcg = 0.39813, precision = 0.37982, map = 0.35135\n",
            "Epoch 31 (train)18.6s: train loss = 0.03612 = (mf)0.02454 + (embed)0.01158\n",
            "Epoch 32 (train)19.0s: train loss = 0.03522 = (mf)0.02367 + (embed)0.01155\n",
            "Epoch 33 (train)18.6s: train loss = 0.03511 = (mf)0.02358 + (embed)0.01153\n",
            "Epoch 34 (train)18.9s: train loss = 0.03425 = (mf)0.02274 + (embed)0.01151\n",
            "Epoch 35 (train)18.5s + (eval)8.2s: train loss = 0.03384 = (mf)0.02237 + (embed)0.01148, recall = 0.23515, ndcg = 0.39648, precision = 0.37773, map = 0.34892\n",
            "Epoch 36 (train)18.7s: train loss = 0.03344 = (mf)0.02200 + (embed)0.01145\n",
            "Epoch 37 (train)18.8s: train loss = 0.03319 = (mf)0.02178 + (embed)0.01141\n",
            "Epoch 38 (train)18.9s: train loss = 0.03265 = (mf)0.02129 + (embed)0.01136\n",
            "Epoch 39 (train)18.5s: train loss = 0.03216 = (mf)0.02083 + (embed)0.01133\n",
            "Epoch 40 (train)18.9s + (eval)6.6s: train loss = 0.03174 = (mf)0.02045 + (embed)0.01129, recall = 0.23321, ndcg = 0.39212, precision = 0.37403, map = 0.34426\n",
            "Epoch 41 (train)18.9s: train loss = 0.03133 = (mf)0.02009 + (embed)0.01124\n",
            "Epoch 42 (train)18.8s: train loss = 0.03099 = (mf)0.01978 + (embed)0.01120\n",
            "Epoch 43 (train)18.5s: train loss = 0.03068 = (mf)0.01951 + (embed)0.01117\n",
            "Epoch 44 (train)18.9s: train loss = 0.03036 = (mf)0.01923 + (embed)0.01113\n",
            "Epoch 45 (train)18.7s + (eval)7.9s: train loss = 0.02960 = (mf)0.01852 + (embed)0.01108, recall = 0.23321, ndcg = 0.39194, precision = 0.37407, map = 0.34358\n",
            "Epoch 46 (train)18.7s: train loss = 0.02960 = (mf)0.01856 + (embed)0.01104\n",
            "Epoch 47 (train)18.9s: train loss = 0.02933 = (mf)0.01834 + (embed)0.01099\n",
            "Epoch 48 (train)18.7s: train loss = 0.02877 = (mf)0.01782 + (embed)0.01095\n",
            "Epoch 49 (train)18.6s: train loss = 0.02856 = (mf)0.01765 + (embed)0.01091\n",
            "Epoch 50 (train)18.9s + (eval)6.7s: train loss = 0.02829 = (mf)0.01742 + (embed)0.01087, recall = 0.23051, ndcg = 0.38713, precision = 0.36967, map = 0.33873\n",
            "Took 1015.5869035579999 seconds for training.\n"
          ]
        }
      ]
    },
    {
      "cell_type": "code",
      "source": [
        "topk_scores = model.recommend_k_items(test, top_k=TOP_K, remove_seen=True)\n",
        "\n",
        "topk_scores.head()"
      ],
      "metadata": {
        "colab": {
          "base_uri": "https://localhost:8080/",
          "height": 206
        },
        "id": "k4FS9OQkQZFP",
        "outputId": "b5139c0e-09ac-40bc-ce34-26a9f2b8cc75"
      },
      "execution_count": null,
      "outputs": [
        {
          "output_type": "execute_result",
          "data": {
            "text/plain": [
              "   userID  itemID  prediction\n",
              "0       1    1128   18.452774\n",
              "1       1    3724   18.200329\n",
              "2       1    3793   17.829363\n",
              "3       2     961   10.809409\n",
              "4       2    3587   10.337966"
            ],
            "text/html": [
              "\n",
              "  <div id=\"df-efa60749-e7b2-4821-9d18-833db3a59419\" class=\"colab-df-container\">\n",
              "    <div>\n",
              "<style scoped>\n",
              "    .dataframe tbody tr th:only-of-type {\n",
              "        vertical-align: middle;\n",
              "    }\n",
              "\n",
              "    .dataframe tbody tr th {\n",
              "        vertical-align: top;\n",
              "    }\n",
              "\n",
              "    .dataframe thead th {\n",
              "        text-align: right;\n",
              "    }\n",
              "</style>\n",
              "<table border=\"1\" class=\"dataframe\">\n",
              "  <thead>\n",
              "    <tr style=\"text-align: right;\">\n",
              "      <th></th>\n",
              "      <th>userID</th>\n",
              "      <th>itemID</th>\n",
              "      <th>prediction</th>\n",
              "    </tr>\n",
              "  </thead>\n",
              "  <tbody>\n",
              "    <tr>\n",
              "      <th>0</th>\n",
              "      <td>1</td>\n",
              "      <td>1128</td>\n",
              "      <td>18.452774</td>\n",
              "    </tr>\n",
              "    <tr>\n",
              "      <th>1</th>\n",
              "      <td>1</td>\n",
              "      <td>3724</td>\n",
              "      <td>18.200329</td>\n",
              "    </tr>\n",
              "    <tr>\n",
              "      <th>2</th>\n",
              "      <td>1</td>\n",
              "      <td>3793</td>\n",
              "      <td>17.829363</td>\n",
              "    </tr>\n",
              "    <tr>\n",
              "      <th>3</th>\n",
              "      <td>2</td>\n",
              "      <td>961</td>\n",
              "      <td>10.809409</td>\n",
              "    </tr>\n",
              "    <tr>\n",
              "      <th>4</th>\n",
              "      <td>2</td>\n",
              "      <td>3587</td>\n",
              "      <td>10.337966</td>\n",
              "    </tr>\n",
              "  </tbody>\n",
              "</table>\n",
              "</div>\n",
              "    <div class=\"colab-df-buttons\">\n",
              "\n",
              "  <div class=\"colab-df-container\">\n",
              "    <button class=\"colab-df-convert\" onclick=\"convertToInteractive('df-efa60749-e7b2-4821-9d18-833db3a59419')\"\n",
              "            title=\"Convert this dataframe to an interactive table.\"\n",
              "            style=\"display:none;\">\n",
              "\n",
              "  <svg xmlns=\"http://www.w3.org/2000/svg\" height=\"24px\" viewBox=\"0 -960 960 960\">\n",
              "    <path d=\"M120-120v-720h720v720H120Zm60-500h600v-160H180v160Zm220 220h160v-160H400v160Zm0 220h160v-160H400v160ZM180-400h160v-160H180v160Zm440 0h160v-160H620v160ZM180-180h160v-160H180v160Zm440 0h160v-160H620v160Z\"/>\n",
              "  </svg>\n",
              "    </button>\n",
              "\n",
              "  <style>\n",
              "    .colab-df-container {\n",
              "      display:flex;\n",
              "      gap: 12px;\n",
              "    }\n",
              "\n",
              "    .colab-df-convert {\n",
              "      background-color: #E8F0FE;\n",
              "      border: none;\n",
              "      border-radius: 50%;\n",
              "      cursor: pointer;\n",
              "      display: none;\n",
              "      fill: #1967D2;\n",
              "      height: 32px;\n",
              "      padding: 0 0 0 0;\n",
              "      width: 32px;\n",
              "    }\n",
              "\n",
              "    .colab-df-convert:hover {\n",
              "      background-color: #E2EBFA;\n",
              "      box-shadow: 0px 1px 2px rgba(60, 64, 67, 0.3), 0px 1px 3px 1px rgba(60, 64, 67, 0.15);\n",
              "      fill: #174EA6;\n",
              "    }\n",
              "\n",
              "    .colab-df-buttons div {\n",
              "      margin-bottom: 4px;\n",
              "    }\n",
              "\n",
              "    [theme=dark] .colab-df-convert {\n",
              "      background-color: #3B4455;\n",
              "      fill: #D2E3FC;\n",
              "    }\n",
              "\n",
              "    [theme=dark] .colab-df-convert:hover {\n",
              "      background-color: #434B5C;\n",
              "      box-shadow: 0px 1px 3px 1px rgba(0, 0, 0, 0.15);\n",
              "      filter: drop-shadow(0px 1px 2px rgba(0, 0, 0, 0.3));\n",
              "      fill: #FFFFFF;\n",
              "    }\n",
              "  </style>\n",
              "\n",
              "    <script>\n",
              "      const buttonEl =\n",
              "        document.querySelector('#df-efa60749-e7b2-4821-9d18-833db3a59419 button.colab-df-convert');\n",
              "      buttonEl.style.display =\n",
              "        google.colab.kernel.accessAllowed ? 'block' : 'none';\n",
              "\n",
              "      async function convertToInteractive(key) {\n",
              "        const element = document.querySelector('#df-efa60749-e7b2-4821-9d18-833db3a59419');\n",
              "        const dataTable =\n",
              "          await google.colab.kernel.invokeFunction('convertToInteractive',\n",
              "                                                    [key], {});\n",
              "        if (!dataTable) return;\n",
              "\n",
              "        const docLinkHtml = 'Like what you see? Visit the ' +\n",
              "          '<a target=\"_blank\" href=https://colab.research.google.com/notebooks/data_table.ipynb>data table notebook</a>'\n",
              "          + ' to learn more about interactive tables.';\n",
              "        element.innerHTML = '';\n",
              "        dataTable['output_type'] = 'display_data';\n",
              "        await google.colab.output.renderOutput(dataTable, element);\n",
              "        const docLink = document.createElement('div');\n",
              "        docLink.innerHTML = docLinkHtml;\n",
              "        element.appendChild(docLink);\n",
              "      }\n",
              "    </script>\n",
              "  </div>\n",
              "\n",
              "\n",
              "<div id=\"df-0ad79e40-c655-453c-a437-b73e5042d486\">\n",
              "  <button class=\"colab-df-quickchart\" onclick=\"quickchart('df-0ad79e40-c655-453c-a437-b73e5042d486')\"\n",
              "            title=\"Suggest charts\"\n",
              "            style=\"display:none;\">\n",
              "\n",
              "<svg xmlns=\"http://www.w3.org/2000/svg\" height=\"24px\"viewBox=\"0 0 24 24\"\n",
              "     width=\"24px\">\n",
              "    <g>\n",
              "        <path d=\"M19 3H5c-1.1 0-2 .9-2 2v14c0 1.1.9 2 2 2h14c1.1 0 2-.9 2-2V5c0-1.1-.9-2-2-2zM9 17H7v-7h2v7zm4 0h-2V7h2v10zm4 0h-2v-4h2v4z\"/>\n",
              "    </g>\n",
              "</svg>\n",
              "  </button>\n",
              "\n",
              "<style>\n",
              "  .colab-df-quickchart {\n",
              "      --bg-color: #E8F0FE;\n",
              "      --fill-color: #1967D2;\n",
              "      --hover-bg-color: #E2EBFA;\n",
              "      --hover-fill-color: #174EA6;\n",
              "      --disabled-fill-color: #AAA;\n",
              "      --disabled-bg-color: #DDD;\n",
              "  }\n",
              "\n",
              "  [theme=dark] .colab-df-quickchart {\n",
              "      --bg-color: #3B4455;\n",
              "      --fill-color: #D2E3FC;\n",
              "      --hover-bg-color: #434B5C;\n",
              "      --hover-fill-color: #FFFFFF;\n",
              "      --disabled-bg-color: #3B4455;\n",
              "      --disabled-fill-color: #666;\n",
              "  }\n",
              "\n",
              "  .colab-df-quickchart {\n",
              "    background-color: var(--bg-color);\n",
              "    border: none;\n",
              "    border-radius: 50%;\n",
              "    cursor: pointer;\n",
              "    display: none;\n",
              "    fill: var(--fill-color);\n",
              "    height: 32px;\n",
              "    padding: 0;\n",
              "    width: 32px;\n",
              "  }\n",
              "\n",
              "  .colab-df-quickchart:hover {\n",
              "    background-color: var(--hover-bg-color);\n",
              "    box-shadow: 0 1px 2px rgba(60, 64, 67, 0.3), 0 1px 3px 1px rgba(60, 64, 67, 0.15);\n",
              "    fill: var(--button-hover-fill-color);\n",
              "  }\n",
              "\n",
              "  .colab-df-quickchart-complete:disabled,\n",
              "  .colab-df-quickchart-complete:disabled:hover {\n",
              "    background-color: var(--disabled-bg-color);\n",
              "    fill: var(--disabled-fill-color);\n",
              "    box-shadow: none;\n",
              "  }\n",
              "\n",
              "  .colab-df-spinner {\n",
              "    border: 2px solid var(--fill-color);\n",
              "    border-color: transparent;\n",
              "    border-bottom-color: var(--fill-color);\n",
              "    animation:\n",
              "      spin 1s steps(1) infinite;\n",
              "  }\n",
              "\n",
              "  @keyframes spin {\n",
              "    0% {\n",
              "      border-color: transparent;\n",
              "      border-bottom-color: var(--fill-color);\n",
              "      border-left-color: var(--fill-color);\n",
              "    }\n",
              "    20% {\n",
              "      border-color: transparent;\n",
              "      border-left-color: var(--fill-color);\n",
              "      border-top-color: var(--fill-color);\n",
              "    }\n",
              "    30% {\n",
              "      border-color: transparent;\n",
              "      border-left-color: var(--fill-color);\n",
              "      border-top-color: var(--fill-color);\n",
              "      border-right-color: var(--fill-color);\n",
              "    }\n",
              "    40% {\n",
              "      border-color: transparent;\n",
              "      border-right-color: var(--fill-color);\n",
              "      border-top-color: var(--fill-color);\n",
              "    }\n",
              "    60% {\n",
              "      border-color: transparent;\n",
              "      border-right-color: var(--fill-color);\n",
              "    }\n",
              "    80% {\n",
              "      border-color: transparent;\n",
              "      border-right-color: var(--fill-color);\n",
              "      border-bottom-color: var(--fill-color);\n",
              "    }\n",
              "    90% {\n",
              "      border-color: transparent;\n",
              "      border-bottom-color: var(--fill-color);\n",
              "    }\n",
              "  }\n",
              "</style>\n",
              "\n",
              "  <script>\n",
              "    async function quickchart(key) {\n",
              "      const quickchartButtonEl =\n",
              "        document.querySelector('#' + key + ' button');\n",
              "      quickchartButtonEl.disabled = true;  // To prevent multiple clicks.\n",
              "      quickchartButtonEl.classList.add('colab-df-spinner');\n",
              "      try {\n",
              "        const charts = await google.colab.kernel.invokeFunction(\n",
              "            'suggestCharts', [key], {});\n",
              "      } catch (error) {\n",
              "        console.error('Error during call to suggestCharts:', error);\n",
              "      }\n",
              "      quickchartButtonEl.classList.remove('colab-df-spinner');\n",
              "      quickchartButtonEl.classList.add('colab-df-quickchart-complete');\n",
              "    }\n",
              "    (() => {\n",
              "      let quickchartButtonEl =\n",
              "        document.querySelector('#df-0ad79e40-c655-453c-a437-b73e5042d486 button');\n",
              "      quickchartButtonEl.style.display =\n",
              "        google.colab.kernel.accessAllowed ? 'block' : 'none';\n",
              "    })();\n",
              "  </script>\n",
              "</div>\n",
              "\n",
              "    </div>\n",
              "  </div>\n"
            ],
            "application/vnd.google.colaboratory.intrinsic+json": {
              "type": "dataframe",
              "variable_name": "topk_scores"
            }
          },
          "metadata": {},
          "execution_count": 32
        }
      ]
    },
    {
      "cell_type": "code",
      "source": [
        "eval_map = map(test, topk_scores, k=TOP_K)\n",
        "eval_ndcg = ndcg_at_k(test, topk_scores, k=TOP_K)\n",
        "eval_precision = precision_at_k(test, topk_scores, k=TOP_K)\n",
        "eval_recall = recall_at_k(test, topk_scores, k=TOP_K)\n",
        "\n",
        "print(\"MAP:\\t%f\" % eval_map,\n",
        "      \"NDCG:\\t%f\" % eval_ndcg,\n",
        "      \"Precision@K:\\t%f\" % eval_precision,\n",
        "      \"Recall@K:\\t%f\" % eval_recall, sep='\\n')"
      ],
      "metadata": {
        "colab": {
          "base_uri": "https://localhost:8080/"
        },
        "id": "sSC87VStQasf",
        "outputId": "ebd34678-dae3-4c36-a81d-035058ee64d4"
      },
      "execution_count": null,
      "outputs": [
        {
          "output_type": "stream",
          "name": "stdout",
          "text": [
            "MAP:\t0.210285\n",
            "NDCG:\t0.387130\n",
            "Precision@K:\t0.369673\n",
            "Recall@K:\t0.230509\n"
          ]
        }
      ]
    },
    {
      "cell_type": "code",
      "source": [
        "item_local_file_path = \"./ml-1m/procedures.csv\"\n",
        "# Định nghĩa tên cột trong DataFrame\n",
        "columns = [\n",
        "    \"ID\", \"PROCEDURE_CODE\", \"PROCEDURE_NAME\", \"PUBLISHED_AGENCY\",\n",
        "    \"IMPLEMENTATION_AGENCY\", \"QDCBID\", \"FIELD_NAME\", \"AMOUNT\", \"ROW_STT\"\n",
        "]\n",
        "\n",
        "# Đọc file CSV vào DataFrame\n",
        "item_df = pd.read_csv(item_local_file_path, names=columns, header=0, encoding=\"utf-8\")\n",
        "# Tạo ánh xạ ngược từ item_idx (chỉ số nội bộ) sang itemID gốc\n",
        "idx_to_itemID = {v: k for k, v in data.item2id.items()}\n",
        "# Thay thế itemID nội bộ trong topk_scores bằng itemID gốc\n",
        "topk_scores[\"itemID\"] = topk_scores[\"itemID\"].map(idx_to_itemID)\n",
        "# Tạo ánh xạ trực tiếp từ itemID gốc sang PROCEDURE_NAME\n",
        "itemID_to_procedure_name = dict(zip(item_df[\"ROW_STT\"], item_df[\"PROCEDURE_NAME\"]))\n",
        "# Ánh xạ itemID gốc trong topk_scores sang tên dịch vụ (PROCEDURE_NAME)\n",
        "topk_scores[\"PROCEDURE_NAME\"] = topk_scores[\"itemID\"].map(itemID_to_procedure_name)\n",
        "\n",
        "# Xuất toàn bộ các gợi ý ra file CSV\n",
        "output_file = \"./ml-1m/results.csv\"\n",
        "topk_scores.to_csv(output_file, index=False)\n",
        "\n",
        "print(f\"Tất cả các gợi ý đã được lưu vào file: {output_file}\")"
      ],
      "metadata": {
        "colab": {
          "base_uri": "https://localhost:8080/"
        },
        "id": "hbTUh1a_8eNo",
        "outputId": "426e384d-b3f8-4e3d-b1d5-be599f0b3dfe"
      },
      "execution_count": null,
      "outputs": [
        {
          "output_type": "stream",
          "name": "stdout",
          "text": [
            "Tất cả các gợi ý đã được lưu vào file: ./ml-1m/results.csv\n"
          ]
        }
      ]
    },
    {
      "cell_type": "code",
      "source": [
        "# Đọc lại file CSV\n",
        "recommendations = pd.read_csv(\"./ml-1m/results.csv\")"
      ],
      "metadata": {
        "id": "uHVowJxEqcnG"
      },
      "execution_count": null,
      "outputs": []
    },
    {
      "cell_type": "code",
      "source": [
        "# Lọc gợi ý cho userID cụ thể\n",
        "user_id = 2  # ID của người dùng cần tìm\n",
        "user_recommendations = recommendations[recommendations[\"userID\"] == user_id]\n",
        "\n",
        "# Hiển thị kết quả\n",
        "print(f\"Gợi ý cho userID = {user_id}:\")\n",
        "print(user_recommendations[[\"itemID\", \"PROCEDURE_NAME\", \"prediction\"]].to_string(index=False))\n"
      ],
      "metadata": {
        "colab": {
          "base_uri": "https://localhost:8080/"
        },
        "id": "XG1njWxWqza7",
        "outputId": "b5a9dfb0-5b31-47fc-d42c-b586e17ddc6b"
      },
      "execution_count": null,
      "outputs": [
        {
          "output_type": "stream",
          "name": "stdout",
          "text": [
            "Gợi ý cho userID = 2:\n",
            " itemID                                        PROCEDURE_NAME  prediction\n",
            "   73.0 Cấp giấy xác nhận quá trình thực hành công tác xã hội   10.809409\n",
            " 3744.0          Cấp giấy xác nhận nội dung quảng cáo mỹ phẩm   10.337966\n",
            " 4023.0        Cấp Giấy phép, năng định cho người lái tàu bay   10.284188\n"
          ]
        }
      ]
    },
    {
      "cell_type": "code",
      "source": [
        "model.infer_embedding(user_file, item_file)"
      ],
      "metadata": {
        "id": "f0MDW_jBQgHX"
      },
      "execution_count": null,
      "outputs": []
    }
  ]
}